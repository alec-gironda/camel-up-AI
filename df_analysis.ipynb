{
 "cells": [
  {
   "cell_type": "code",
   "execution_count": 1,
   "id": "c0e6ad25-54d6-455f-88c5-a1bf5c1dba00",
   "metadata": {},
   "outputs": [],
   "source": [
    "import tensorflow as tf\n",
    "from tree import *\n",
    "import pandas as pd"
   ]
  },
  {
   "cell_type": "code",
   "execution_count": 3,
   "id": "504f88aa-d968-4db2-a0e5-79b0712f1888",
   "metadata": {
    "tags": []
   },
   "outputs": [
    {
     "name": "stdout",
     "output_type": "stream",
     "text": [
      "Starting simulations\n"
     ]
    },
    {
     "data": {
      "text/plain": [
       "(                                          board_state        dice_left  \\\n",
       " 0   {1: [1, 2, 3], 2: [4, 5], 3: [], 4: [], 5: [],...  {1, 2, 3, 4, 5}   \n",
       " 1   {1: [], 2: [4, 5], 3: [], 4: [1, 2], 5: [], 6:...        {2, 4, 5}   \n",
       " 2   {1: [], 2: [4, 5], 3: [], 4: [1, 2], 5: [], 6:...        {2, 4, 5}   \n",
       " 3   {1: [], 2: [], 3: [5, 4], 4: [1, 2], 5: [], 6:...              {2}   \n",
       " 4   {1: [], 2: [], 3: [], 4: [1], 5: [5, 4], 6: [2...     {1, 2, 3, 4}   \n",
       " 5   {1: [], 2: [], 3: [], 4: [], 5: [5, 4, 1], 6: ...        {2, 3, 4}   \n",
       " 6   {1: [], 2: [], 3: [], 4: [], 5: [5, 4, 1], 6: ...              {4}   \n",
       " 7   {1: [], 2: [], 3: [], 4: [], 5: [5], 6: [], 7:...               {}   \n",
       " 8   {1: [], 2: [], 3: [], 4: [], 5: [], 6: [5], 7:...        {1, 3, 4}   \n",
       " 9   {1: [], 2: [], 3: [], 4: [], 5: [], 6: [5], 7:...           {1, 3}   \n",
       " 10  {1: [], 2: [], 3: [], 4: [], 5: [], 6: [5], 7:...              {3}   \n",
       " 11  {1: [], 2: [], 3: [], 4: [], 5: [], 6: [5], 7:...     {1, 2, 4, 5}   \n",
       " \n",
       "                                             bets_left  \\\n",
       " 0   {1: [2, 3, 5], 2: [2, 3, 5], 3: [2, 3, 5], 4: ...   \n",
       " 1   {1: [2, 3, 5], 2: [2, 3, 5], 3: [2, 3, 5], 4: ...   \n",
       " 2   {1: [2, 3, 5], 2: [2, 3, 5], 3: [2, 3, 5], 4: ...   \n",
       " 3   {1: [2, 3, 5], 2: [2, 3, 5], 3: [2, 3, 5], 4: ...   \n",
       " 4   {1: [2, 3, 5], 2: [2, 3, 5], 3: [2, 3, 5], 4: ...   \n",
       " 5   {1: [2, 3, 5], 2: [2, 3], 3: [2, 3, 5], 4: [2,...   \n",
       " 6   {1: [2, 3, 5], 2: [2, 3], 3: [2, 3, 5], 4: [2,...   \n",
       " 7   {1: [2, 3], 2: [2, 3], 3: [2, 3, 5], 4: [2, 3,...   \n",
       " 8   {1: [2, 3, 5], 2: [2, 3, 5], 3: [2, 3, 5], 4: ...   \n",
       " 9   {1: [2, 3, 5], 2: [2, 3], 3: [2, 3, 5], 4: [2,...   \n",
       " 10  {1: [2, 3, 5], 2: [2, 3], 3: [2, 3, 5], 4: [2,...   \n",
       " 11  {1: [2, 3, 5], 2: [2, 3, 5], 3: [2, 3, 5], 4: ...   \n",
       " \n",
       "                                           camel_spots  expected_value  \n",
       " 0   {1: [1, 0], 2: [1, 1], 3: [1, 2], 4: [2, 0], 5...              13  \n",
       " 1   {1: [4, 0], 2: [4, 1], 3: [7, 0], 4: [2, 0], 5...              13  \n",
       " 2   {1: [4, 0], 2: [4, 1], 3: [7, 0], 4: [2, 0], 5...              13  \n",
       " 3   {1: [4, 0], 2: [4, 1], 3: [7, 0], 4: [3, 1], 5...              13  \n",
       " 4   {1: [4, 0], 2: [6, 0], 3: [7, 0], 4: [5, 1], 5...              13  \n",
       " 5   {1: [5, 2], 2: [6, 0], 3: [7, 0], 4: [5, 1], 5...              13  \n",
       " 6   {1: [5, 2], 2: [9, 0], 3: [9, 1], 4: [5, 1], 5...              13  \n",
       " 7   {1: [8, 1], 2: [9, 0], 3: [9, 1], 4: [8, 0], 5...              13  \n",
       " 8   {1: [8, 1], 2: [12, 0], 3: [12, 1], 4: [8, 0],...              13  \n",
       " 9   {1: [9, 1], 2: [12, 0], 3: [12, 1], 4: [9, 0],...              13  \n",
       " 10  {1: [12, 2], 2: [12, 0], 3: [12, 1], 4: [9, 0]...              13  \n",
       " 11  {1: [14, 1], 2: [12, 0], 3: [14, 0], 4: [9, 0]...              13  ,\n",
       " 1)"
      ]
     },
     "metadata": {},
     "output_type": "display_data"
    }
   ],
   "source": [
    "#starting game configs\n",
    "board_state = {1:[1,2,3],2:[4,5],3:[],4:[],5:[],6:[],7:[],8:[],9:[],10:[],11:[],12:[],13:[],14:[],15:[],16:[],17:[],18:[],19:[],20:[]}\n",
    "bets_left = {1:[2,3,5],2:[2,3,5],3:[2,3,5],4:[2,3,5],5:[2,3,5]}\n",
    "bets_made = {}\n",
    "dice_left = set([1,2,3,4,5])\n",
    "camel_spots = {1:[1,0],2:[1,1],3:[1,2],4:[2,0],5:[2,1]} #arbitrarily selecting starting locations for our camels\n",
    "money = 0\n",
    "\n",
    "\n",
    "# root = SinglePlayerGameStateNode(board_state,dice_left,bets_left,bets_made,camel_spots,money)\n",
    "# print(BFS(root))\n",
    "\n",
    "root = GameStateNode(board_state,dice_left,bets_left,camel_spots)\n",
    "# root2 = GameStateNode(board_state,dice_left, bets_left, camel_spots)\n",
    "\n",
    "\n",
    "\n",
    "#simulating 1000 games\n",
    "p1_wins = 0\n",
    "p2_wins = 0\n",
    "# p3_wins = 0\n",
    "# p4_wins = 0\n",
    "\n",
    "print(\"Starting simulations\")\n",
    "start_time = time.time()\n",
    "ties = 0\n",
    "expected_values = {}\n",
    "outcome = [0,0,0]\n",
    "i=0\n",
    "sim = Simulate()\n",
    "sim_df = sim.SimulateRandomGame(root)\n",
    "\n",
    "display(sim_df)"
   ]
  },
  {
   "cell_type": "code",
   "execution_count": null,
   "id": "d0fe103f-4596-4a60-8f38-4abd337c022b",
   "metadata": {},
   "outputs": [],
   "source": [
    "model = tf.keras.models.Sequential()\n",
    "model.add(Input(shape = (5,))) \n",
    "model.add(tf.keras.layers.Flatten())\n",
    "model.add(tf.keras.layers.Dense(hidden_units,activation = tf.nn.relu))\n",
    "model.add(tf.keras.layers.Dense(6,activation=tf.nn.softmax))\n",
    "\n",
    "optim = tf.keras.optimizers.Adam(learning_rate=0.01)\n",
    "\n",
    "model.compile(optimizer=optim,loss='sparse_categorical_crossentropy',metrics=['accuracy'])\n",
    "\n",
    "model.fit(model.x_train,model.y_train,epochs=100)"
   ]
  },
  {
   "cell_type": "code",
   "execution_count": 19,
   "id": "80014a33-4826-4af2-aefb-4659ddb655a2",
   "metadata": {},
   "outputs": [
    {
     "name": "stdout",
     "output_type": "stream",
     "text": [
      "(1, 0, 1, 1, 1, 2, 2, 0, 2, 1)\n"
     ]
    }
   ],
   "source": [
    "board_state = {1:[1,2,3],2:[4,5],3:[],4:[],5:[],6:[],7:[],8:[],9:[],10:[],11:[],12:[],13:[],14:[],15:[],16:[],17:[],18:[],19:[],20:[]}\n",
    "bets_left = {1:[2,3],2:[2,3,5],3:[2],4:[2,3,5],5:[2,3,5]}\n",
    "bets_made = {}\n",
    "dice_left = set([1,2,3,4,5])\n",
    "camel_spots = {1:[1,0],2:[1,1],3:[1,2],4:[2,0],5:[2,1]} #arbitrarily selecting starting locations for our camels\n",
    "money = 0\n",
    "    \n",
    "def get_hashable_camel_spots(camel_spots):\n",
    "\n",
    "        res = [0 for i in range(0,5*2)]\n",
    "\n",
    "        for key in camel_spots:\n",
    "            start = (key-1)*2\n",
    "            res[start:start+len(camel_spots[key])] = camel_spots[key]\n",
    "\n",
    "        return tuple(res)\n",
    "\n",
    "print(get_hashable_camel_spots(camel_spots))\n",
    "    "
   ]
  },
  {
   "cell_type": "code",
   "execution_count": null,
   "id": "bb7a020c-4aa2-4906-9b3e-fc8111c6c4f9",
   "metadata": {},
   "outputs": [],
   "source": []
  }
 ],
 "metadata": {
  "kernelspec": {
   "display_name": "Python 3 (ipykernel)",
   "language": "python",
   "name": "python3"
  },
  "language_info": {
   "codemirror_mode": {
    "name": "ipython",
    "version": 3
   },
   "file_extension": ".py",
   "mimetype": "text/x-python",
   "name": "python",
   "nbconvert_exporter": "python",
   "pygments_lexer": "ipython3",
   "version": "3.10.5"
  }
 },
 "nbformat": 4,
 "nbformat_minor": 5
}
